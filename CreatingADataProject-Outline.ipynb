{
 "cells": [
  {
   "cell_type": "markdown",
   "metadata": {},
   "source": [
    "## Creating a Web Data Project with Jupyter Notebooks\n",
    "******\n",
    "###### 1. Read in json file(s) resulting from your work with requests/selenium and beautifulsoup"
   ]
  },
  {
   "cell_type": "code",
   "execution_count": 1,
   "metadata": {
    "collapsed": true
   },
   "outputs": [],
   "source": [
    "# Import necessary packages\n",
    "\n",
    "\n",
    "# Read in json files and create dataframes"
   ]
  },
  {
   "cell_type": "markdown",
   "metadata": {},
   "source": [
    "###### 2. Clean the data column by column\n",
    "- Ensure that addresses (or other text data) are consistent \n",
    "- Eliminate string characters from numeric values \n",
    "- Exclude redundant data as appropriate"
   ]
  },
  {
   "cell_type": "code",
   "execution_count": 2,
   "metadata": {
    "collapsed": true
   },
   "outputs": [],
   "source": [
    "# Clean up location data to ensure consistency"
   ]
  },
  {
   "cell_type": "code",
   "execution_count": 3,
   "metadata": {
    "collapsed": false
   },
   "outputs": [],
   "source": [
    "# Show results of cleaning"
   ]
  },
  {
   "cell_type": "code",
   "execution_count": 4,
   "metadata": {
    "collapsed": false
   },
   "outputs": [],
   "source": [
    "# Eliminate string characters from numeric data"
   ]
  },
  {
   "cell_type": "code",
   "execution_count": 5,
   "metadata": {
    "collapsed": false
   },
   "outputs": [],
   "source": [
    "# Show results of cleaning"
   ]
  },
  {
   "cell_type": "code",
   "execution_count": 6,
   "metadata": {
    "collapsed": true
   },
   "outputs": [],
   "source": [
    "# Exclude redundant rows"
   ]
  },
  {
   "cell_type": "markdown",
   "metadata": {},
   "source": [
    "###### 3. Merge dataframes from separate json files as appropriate\n",
    "- Find the intersection of two (or more) sets\n",
    "- Compare the intersection with the newer set to find 'New Products'  \n",
    "    - When found, add the starting date\n",
    "- Compare the intersection with the older set to find 'Closed Products'  \n",
    "    - When found, add the closing date\n",
    "    - Compare closing date with starting date to find days on market      "
   ]
  },
  {
   "cell_type": "code",
   "execution_count": 7,
   "metadata": {
    "collapsed": true
   },
   "outputs": [],
   "source": [
    "# Create the inner merge of the two dataframes"
   ]
  },
  {
   "cell_type": "code",
   "execution_count": 1,
   "metadata": {
    "collapsed": false
   },
   "outputs": [],
   "source": [
    "# Determine the set of 'new products'\n",
    "\n",
    "\n",
    "# Create the associated dataframe\n",
    " \n",
    "    \n",
    "# Add the starting date in the dataframe \n",
    "# in which the product is first shown"
   ]
  },
  {
   "cell_type": "code",
   "execution_count": 2,
   "metadata": {
    "collapsed": false
   },
   "outputs": [],
   "source": [
    "# Determine the set of 'closed products'\n",
    "\n",
    "\n",
    "# Create the associated dataframe\n",
    "\n",
    "\n",
    "# Add the closing date in the dataframe \n",
    "# in which the product is last shown\n",
    "\n",
    "\n",
    "# Find days on market by comparing the starting date \n",
    "# with the closing date"
   ]
  },
  {
   "cell_type": "markdown",
   "metadata": {},
   "source": [
    "###### 4. Create visualizations\n",
    "- Histogram of Prices\n",
    "- Histogram of Days on Market\n",
    "- Scatter Diagram of Prices vs Days on Market\n",
    "- Pie Chart of New, Like New, Used"
   ]
  },
  {
   "cell_type": "code",
   "execution_count": 3,
   "metadata": {
    "collapsed": false
   },
   "outputs": [],
   "source": [
    "# Create a histogram of Prices\n",
    "\n",
    "\n",
    "#Temporary Data for Days on Market ... for Scatter Plot Example\n",
    "\n",
    "\n",
    "# Create a histogram of Days on Market\n",
    "\n",
    "\n",
    "# Create a Scatter Diagram of Prices vs Days on Market\n",
    "\n",
    "\n",
    "# Create a Pie Chart of New, Like New, and Used products"
   ]
  },
  {
   "cell_type": "markdown",
   "metadata": {},
   "source": [
    "###### 5. Trends from your data  \n",
    "- Search for specific brands and offer counts for each\n",
    "- Search for product types and offer counts for each\n",
    "- For each of the above (and other) give counts for day over day or week over week"
   ]
  },
  {
   "cell_type": "code",
   "execution_count": 4,
   "metadata": {
    "collapsed": false
   },
   "outputs": [],
   "source": [
    "# List the products representing specific brands of your choosing\n",
    "# for each date provided\n",
    "\n",
    "\n",
    "# Create a bar chart of products by brand (for the brands chosen)\n",
    "\n",
    "\n",
    "\n",
    "# List the products of a specific type\n",
    "\n",
    "\n",
    "# Create a bar chart of products by specific type\n",
    "# for each date provided"
   ]
  },
  {
   "cell_type": "code",
   "execution_count": 5,
   "metadata": {
    "collapsed": false
   },
   "outputs": [],
   "source": [
    "# Show resulting dataframes of interest"
   ]
  },
  {
   "cell_type": "code",
   "execution_count": null,
   "metadata": {
    "collapsed": true
   },
   "outputs": [],
   "source": [
    ""
   ]
  }
 ],
 "metadata": {
  "kernelspec": {
   "display_name": "Python 3",
   "language": "python",
   "name": "python3"
  },
  "language_info": {
   "codemirror_mode": {
    "name": "ipython",
    "version": 3.0
   },
   "file_extension": ".py",
   "mimetype": "text/x-python",
   "name": "python",
   "nbconvert_exporter": "python",
   "pygments_lexer": "ipython3",
   "version": "3.5.1"
  }
 },
 "nbformat": 4,
 "nbformat_minor": 0
}