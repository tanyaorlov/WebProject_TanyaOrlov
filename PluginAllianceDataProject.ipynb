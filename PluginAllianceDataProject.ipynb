{
 "cells": [
  {
   "cell_type": "markdown",
   "metadata": {},
   "source": [
    "## Creating a Web Data Project with Jupyter Notebooks\n",
    "******\n",
    "###### 1. Read in json file(s) resulting from your work with requests/selenium and beautifulsoup"
   ]
  },
  {
   "cell_type": "code",
   "execution_count": 11,
   "metadata": {
    "collapsed": false,
    "scrolled": true
   },
   "outputs": [
    {
     "data": {
      "text/html": [
       "<div>\n",
       "<table border=\"1\" class=\"dataframe\">\n",
       "  <thead>\n",
       "    <tr style=\"text-align: right;\">\n",
       "      <th></th>\n",
       "      <th>Brand</th>\n",
       "      <th>Current Price</th>\n",
       "      <th>Original Price</th>\n",
       "      <th>Product Name</th>\n",
       "      <th>Teaser</th>\n",
       "    </tr>\n",
       "  </thead>\n",
       "  <tbody>\n",
       "    <tr>\n",
       "      <th>0</th>\n",
       "      <td>Plugin Alliance</td>\n",
       "      <td>$3,659</td>\n",
       "      <td>$8,663</td>\n",
       "      <td>100% AAX DSP Bundle V1.5</td>\n",
       "      <td>50 world-class AAX DSP plugins. 10 highly resp...</td>\n",
       "    </tr>\n",
       "    <tr>\n",
       "      <th>1</th>\n",
       "      <td>Plugin Alliance</td>\n",
       "      <td>$4,739</td>\n",
       "      <td>$11,766</td>\n",
       "      <td>All Bundle V4.6</td>\n",
       "      <td>75 world-class plugins from 15 highly respecte...</td>\n",
       "    </tr>\n",
       "    <tr>\n",
       "      <th>2</th>\n",
       "      <td>SPL</td>\n",
       "      <td>$799</td>\n",
       "      <td>$1,750</td>\n",
       "      <td>100% SPL Bundle V2.2</td>\n",
       "      <td>Transient Designer Plus, Vitalizer, De-Essers,...</td>\n",
       "    </tr>\n",
       "    <tr>\n",
       "      <th>3</th>\n",
       "      <td>Brainworx</td>\n",
       "      <td>$2,109</td>\n",
       "      <td>$4,477</td>\n",
       "      <td>100% BX Bundle V2.9</td>\n",
       "      <td>Get all of the award-winning Brainworx plugins...</td>\n",
       "    </tr>\n",
       "    <tr>\n",
       "      <th>4</th>\n",
       "      <td>Brainworx</td>\n",
       "      <td>$229</td>\n",
       "      <td>$317</td>\n",
       "      <td>BX Mega Amp Bundle V1.0</td>\n",
       "      <td>Faithful emulations of perhaps the most popula...</td>\n",
       "    </tr>\n",
       "    <tr>\n",
       "      <th>5</th>\n",
       "      <td>elysia</td>\n",
       "      <td>$619</td>\n",
       "      <td>$946</td>\n",
       "      <td>100% elysia Bundle V1.1</td>\n",
       "      <td>From the flagship alpha compressor to the powe...</td>\n",
       "    </tr>\n",
       "    <tr>\n",
       "      <th>6</th>\n",
       "      <td>ENGL</td>\n",
       "      <td>$229</td>\n",
       "      <td>$317</td>\n",
       "      <td>E765/E646 Amp Bundle - V1.0</td>\n",
       "      <td>The ENGL Amp Bundle brings to the native plugi...</td>\n",
       "    </tr>\n",
       "    <tr>\n",
       "      <th>7</th>\n",
       "      <td>Lindell Audio</td>\n",
       "      <td>$419</td>\n",
       "      <td>$634</td>\n",
       "      <td>100% Lindell Bundle V1.1</td>\n",
       "      <td>Includes the brand new TE-100 EQ and four more...</td>\n",
       "    </tr>\n",
       "    <tr>\n",
       "      <th>8</th>\n",
       "      <td>Lindell Audio</td>\n",
       "      <td>$249</td>\n",
       "      <td>$336</td>\n",
       "      <td>ChannelX Bundle</td>\n",
       "      <td>Includes the 7X-500 limiter, the PEX-500 EQ an...</td>\n",
       "    </tr>\n",
       "    <tr>\n",
       "      <th>9</th>\n",
       "      <td>Plugin Alliance</td>\n",
       "      <td>$3,659</td>\n",
       "      <td>$8,663</td>\n",
       "      <td>100% AAX DSP Bundle V1.5</td>\n",
       "      <td>50 world-class AAX DSP plugins. 10 highly resp...</td>\n",
       "    </tr>\n",
       "    <tr>\n",
       "      <th>10</th>\n",
       "      <td>Plugin Alliance</td>\n",
       "      <td>$629</td>\n",
       "      <td>$1,025</td>\n",
       "      <td>100% SoundGrid Bundle V1.0</td>\n",
       "      <td>5 of our most popular plugins from Mäag, SPL, ...</td>\n",
       "    </tr>\n",
       "    <tr>\n",
       "      <th>11</th>\n",
       "      <td>Plugin Alliance</td>\n",
       "      <td>$1,029</td>\n",
       "      <td>$2,170</td>\n",
       "      <td>100% Venue AAX Bundle V1.1</td>\n",
       "      <td>A collection of live sound industry standards ...</td>\n",
       "    </tr>\n",
       "    <tr>\n",
       "      <th>12</th>\n",
       "      <td>Plugin Alliance</td>\n",
       "      <td>$4,739</td>\n",
       "      <td>$11,766</td>\n",
       "      <td>All Bundle V4.6</td>\n",
       "      <td>75 world-class plugins from 15 highly respecte...</td>\n",
       "    </tr>\n",
       "    <tr>\n",
       "      <th>13</th>\n",
       "      <td>Plugin Alliance</td>\n",
       "      <td>$1,129</td>\n",
       "      <td>$2,520</td>\n",
       "      <td>M/S Mastering Bundle - V2.3</td>\n",
       "      <td>Find out why mastering engineers the world ove...</td>\n",
       "    </tr>\n",
       "    <tr>\n",
       "      <th>14</th>\n",
       "      <td>SPL</td>\n",
       "      <td>$799</td>\n",
       "      <td>$1,750</td>\n",
       "      <td>100% SPL Bundle V2.2</td>\n",
       "      <td>Transient Designer Plus, Vitalizer, De-Essers,...</td>\n",
       "    </tr>\n",
       "    <tr>\n",
       "      <th>15</th>\n",
       "      <td>Unfiltered Audio</td>\n",
       "      <td>$249</td>\n",
       "      <td>$464</td>\n",
       "      <td>100% Unfiltered Bundle V1.1</td>\n",
       "      <td>A comprehensive collection of sound-bending to...</td>\n",
       "    </tr>\n",
       "    <tr>\n",
       "      <th>16</th>\n",
       "      <td>Brainworx</td>\n",
       "      <td>$69</td>\n",
       "      <td>$160</td>\n",
       "      <td>bx_limiter</td>\n",
       "      <td>Professional grade low-latency limiter for mon...</td>\n",
       "    </tr>\n",
       "    <tr>\n",
       "      <th>17</th>\n",
       "      <td>Brainworx</td>\n",
       "      <td>$89</td>\n",
       "      <td>$329</td>\n",
       "      <td>bx_XL V2</td>\n",
       "      <td>The New Loud! bx_XL is an M/S stereo mastering...</td>\n",
       "    </tr>\n",
       "    <tr>\n",
       "      <th>18</th>\n",
       "      <td>elysia</td>\n",
       "      <td>$49</td>\n",
       "      <td>$199</td>\n",
       "      <td>nvelope</td>\n",
       "      <td>Next level tool for managing the attack and su...</td>\n",
       "    </tr>\n",
       "    <tr>\n",
       "      <th>19</th>\n",
       "      <td>Millennia</td>\n",
       "      <td>$99</td>\n",
       "      <td>$299</td>\n",
       "      <td>TCL-2</td>\n",
       "      <td>Faithful emulation of this super clean, but so...</td>\n",
       "    </tr>\n",
       "  </tbody>\n",
       "</table>\n",
       "</div>"
      ],
      "text/plain": [
       "               Brand Current Price Original Price  \\\n",
       "0    Plugin Alliance        $3,659         $8,663   \n",
       "1    Plugin Alliance        $4,739        $11,766   \n",
       "2                SPL          $799         $1,750   \n",
       "3          Brainworx        $2,109         $4,477   \n",
       "4          Brainworx          $229           $317   \n",
       "5             elysia          $619           $946   \n",
       "6               ENGL          $229           $317   \n",
       "7      Lindell Audio          $419           $634   \n",
       "8      Lindell Audio          $249           $336   \n",
       "9    Plugin Alliance        $3,659         $8,663   \n",
       "10   Plugin Alliance          $629         $1,025   \n",
       "11   Plugin Alliance        $1,029         $2,170   \n",
       "12   Plugin Alliance        $4,739        $11,766   \n",
       "13   Plugin Alliance        $1,129         $2,520   \n",
       "14               SPL          $799         $1,750   \n",
       "15  Unfiltered Audio          $249           $464   \n",
       "16         Brainworx           $69           $160   \n",
       "17         Brainworx           $89           $329   \n",
       "18            elysia           $49           $199   \n",
       "19         Millennia           $99           $299   \n",
       "\n",
       "                   Product Name  \\\n",
       "0      100% AAX DSP Bundle V1.5   \n",
       "1               All Bundle V4.6   \n",
       "2          100% SPL Bundle V2.2   \n",
       "3           100% BX Bundle V2.9   \n",
       "4       BX Mega Amp Bundle V1.0   \n",
       "5       100% elysia Bundle V1.1   \n",
       "6   E765/E646 Amp Bundle - V1.0   \n",
       "7      100% Lindell Bundle V1.1   \n",
       "8               ChannelX Bundle   \n",
       "9      100% AAX DSP Bundle V1.5   \n",
       "10   100% SoundGrid Bundle V1.0   \n",
       "11   100% Venue AAX Bundle V1.1   \n",
       "12              All Bundle V4.6   \n",
       "13  M/S Mastering Bundle - V2.3   \n",
       "14         100% SPL Bundle V2.2   \n",
       "15  100% Unfiltered Bundle V1.1   \n",
       "16                   bx_limiter   \n",
       "17                     bx_XL V2   \n",
       "18                      nvelope   \n",
       "19                        TCL-2   \n",
       "\n",
       "                                               Teaser  \n",
       "0   50 world-class AAX DSP plugins. 10 highly resp...  \n",
       "1   75 world-class plugins from 15 highly respecte...  \n",
       "2   Transient Designer Plus, Vitalizer, De-Essers,...  \n",
       "3   Get all of the award-winning Brainworx plugins...  \n",
       "4   Faithful emulations of perhaps the most popula...  \n",
       "5   From the flagship alpha compressor to the powe...  \n",
       "6   The ENGL Amp Bundle brings to the native plugi...  \n",
       "7   Includes the brand new TE-100 EQ and four more...  \n",
       "8   Includes the 7X-500 limiter, the PEX-500 EQ an...  \n",
       "9   50 world-class AAX DSP plugins. 10 highly resp...  \n",
       "10  5 of our most popular plugins from Mäag, SPL, ...  \n",
       "11  A collection of live sound industry standards ...  \n",
       "12  75 world-class plugins from 15 highly respecte...  \n",
       "13  Find out why mastering engineers the world ove...  \n",
       "14  Transient Designer Plus, Vitalizer, De-Essers,...  \n",
       "15  A comprehensive collection of sound-bending to...  \n",
       "16  Professional grade low-latency limiter for mon...  \n",
       "17  The New Loud! bx_XL is an M/S stereo mastering...  \n",
       "18  Next level tool for managing the attack and su...  \n",
       "19  Faithful emulation of this super clean, but so...  "
      ]
     },
     "execution_count": 11,
     "metadata": {},
     "output_type": "execute_result"
    }
   ],
   "source": [
    "# Import necessary packages\n",
    "import matplotlib\n",
    "import numpy as np\n",
    "import matplotlib.pyplot as plt\n",
    "%matplotlib inline\n",
    "import pandas as pd\n",
    "\n",
    "# Read in json files and create dataframes\n",
    "filename5 = '2017-03-20.PluginAllianceSales.json'\n",
    "data5 = pd.read_json(filename5)\n",
    "filename6 = '2017-03-21.PluginAllianceSales.json'\n",
    "data6 = pd.read_json(filename6)\n",
    "\n",
    "#filename = '2017-01-24.PluginSales.json'\n",
    "#data = pd.read_json(filename)\n",
    "#filename2 = '2017-01-31.PluginSales.json'\n",
    "#data2 = pd.read_json(filename2)\n",
    "#filename3 = '2017-02-02.PluginSales.json'\n",
    "#data3 = pd.read_json(filename3)\n",
    "#filename4 = '2017-02-21.PluginAllianceSales.json'\n",
    "#date4 = pd.read_json(filename4)\n",
    "\n",
    "data5\n"
   ]
  },
  {
   "cell_type": "markdown",
   "metadata": {},
   "source": [
    "###### 2. Clean the data column by column\n",
    "- Ensure that addresses (or other text data) are consistent \n",
    "- Eliminate string characters from numeric values \n",
    "- Exclude redundant data as appropriate"
   ]
  },
  {
   "cell_type": "code",
   "execution_count": 12,
   "metadata": {
    "collapsed": false
   },
   "outputs": [],
   "source": [
    "# Eliminate string characters from numeric data\n",
    "data5['Original Price'] = data5['Original Price'].str.replace('$','')\n",
    "data5['Current Price'] = data5['Current Price'].str.replace('$','')\n",
    "data5['Original Price'] = data5['Original Price'].str.replace(',','')\n",
    "data5['Current Price'] = data5['Current Price'].str.replace(',','')\n",
    "\n",
    "data6['Original Price'] = data6['Original Price'].str.replace('$','')\n",
    "data6['Current Price'] = data6['Current Price'].str.replace('$','')\n",
    "data6['Original Price'] = data6['Original Price'].str.replace(',','')\n",
    "data6['Current Price'] = data6['Current Price'].str.replace(',','')\n"
   ]
  },
  {
   "cell_type": "code",
   "execution_count": 13,
   "metadata": {
    "collapsed": false
   },
   "outputs": [],
   "source": [
    "#set(data5['Original Price'])\n",
    "#set(data5['Current Price'])"
   ]
  },
  {
   "cell_type": "code",
   "execution_count": 14,
   "metadata": {
    "collapsed": false
   },
   "outputs": [],
   "source": [
    "#set(data6['Original Price'])\n",
    "#set(data6['Current Price'])"
   ]
  },
  {
   "cell_type": "code",
   "execution_count": 15,
   "metadata": {
    "collapsed": false
   },
   "outputs": [],
   "source": [
    "# Exclude redundant rows\n",
    "NoDupsData = data5.drop_duplicates()\n",
    "NoDupsData2 = data6.drop_duplicates()"
   ]
  },
  {
   "cell_type": "markdown",
   "metadata": {},
   "source": [
    "###### 3. Merge dataframes from separate json files as appropriate\n",
    "- Find the intersection of two (or more) sets\n",
    "- Compare the intersection with the newer set to find 'New Products'  \n",
    "    - When found, add the starting date\n",
    "- Compare the intersection with the older set to find 'Closed Products'  \n",
    "    - When found, add the closing date\n",
    "    - Compare closing date with starting date to find days on market      "
   ]
  },
  {
   "cell_type": "code",
   "execution_count": 18,
   "metadata": {
    "collapsed": false,
    "scrolled": true
   },
   "outputs": [],
   "source": [
    "#Create a dataframe containing the intersection of the two.\n",
    "dataInnerMerge = pd.merge(NoDupsData, NoDupsData2, \\\n",
    "                          on=['Brand','Current Price','Original Price','Product Name', 'Teaser'],\\\n",
    "                          how='inner')"
   ]
  },
  {
   "cell_type": "code",
   "execution_count": 19,
   "metadata": {
    "collapsed": false
   },
   "outputs": [
    {
     "name": "stderr",
     "output_type": "stream",
     "text": [
      "/Users/apple/anaconda/lib/python3.5/site-packages/ipykernel/__main__.py:2: SettingWithCopyWarning: \n",
      "A value is trying to be set on a copy of a slice from a DataFrame.\n",
      "Try using .loc[row_indexer,col_indexer] = value instead\n",
      "\n",
      "See the caveats in the documentation: http://pandas.pydata.org/pandas-docs/stable/indexing.html#indexing-view-versus-copy\n",
      "  from ipykernel import kernelapp as app\n"
     ]
    },
    {
     "ename": "AttributeError",
     "evalue": "'DataFrame' object has no attribute 'key1'",
     "output_type": "error",
     "traceback": [
      "\u001b[0;31m---------------------------------------------------------------------------\u001b[0m",
      "\u001b[0;31mAttributeError\u001b[0m                            Traceback (most recent call last)",
      "\u001b[0;32m<ipython-input-19-ca56f54d55a0>\u001b[0m in \u001b[0;36m<module>\u001b[0;34m()\u001b[0m\n\u001b[1;32m      5\u001b[0m \u001b[0;34m\u001b[0m\u001b[0m\n\u001b[1;32m      6\u001b[0m \u001b[0;31m# Create the associated dataframe\u001b[0m\u001b[0;34m\u001b[0m\u001b[0;34m\u001b[0m\u001b[0m\n\u001b[0;32m----> 7\u001b[0;31m \u001b[0mnewProducts\u001b[0m \u001b[0;34m=\u001b[0m \u001b[0mnewProducts\u001b[0m\u001b[0;34m[\u001b[0m\u001b[0mnewProducts\u001b[0m\u001b[0;34m.\u001b[0m\u001b[0mkey2\u001b[0m \u001b[0;34m!=\u001b[0m \u001b[0mnewProducts\u001b[0m\u001b[0;34m.\u001b[0m\u001b[0mkey1\u001b[0m\u001b[0;34m]\u001b[0m\u001b[0;34m\u001b[0m\u001b[0m\n\u001b[0m\u001b[1;32m      8\u001b[0m \u001b[0;34m\u001b[0m\u001b[0m\n\u001b[1;32m      9\u001b[0m \u001b[0;31m# Add the starting date in the dataframe in which the product is first shown\u001b[0m\u001b[0;34m\u001b[0m\u001b[0;34m\u001b[0m\u001b[0m\n",
      "\u001b[0;32m/Users/apple/anaconda/lib/python3.5/site-packages/pandas/core/generic.py\u001b[0m in \u001b[0;36m__getattr__\u001b[0;34m(self, name)\u001b[0m\n\u001b[1;32m   2670\u001b[0m             \u001b[0;32mif\u001b[0m \u001b[0mname\u001b[0m \u001b[0;32min\u001b[0m \u001b[0mself\u001b[0m\u001b[0;34m.\u001b[0m\u001b[0m_info_axis\u001b[0m\u001b[0;34m:\u001b[0m\u001b[0;34m\u001b[0m\u001b[0m\n\u001b[1;32m   2671\u001b[0m                 \u001b[0;32mreturn\u001b[0m \u001b[0mself\u001b[0m\u001b[0;34m[\u001b[0m\u001b[0mname\u001b[0m\u001b[0;34m]\u001b[0m\u001b[0;34m\u001b[0m\u001b[0m\n\u001b[0;32m-> 2672\u001b[0;31m             \u001b[0;32mreturn\u001b[0m \u001b[0mobject\u001b[0m\u001b[0;34m.\u001b[0m\u001b[0m__getattribute__\u001b[0m\u001b[0;34m(\u001b[0m\u001b[0mself\u001b[0m\u001b[0;34m,\u001b[0m \u001b[0mname\u001b[0m\u001b[0;34m)\u001b[0m\u001b[0;34m\u001b[0m\u001b[0m\n\u001b[0m\u001b[1;32m   2673\u001b[0m \u001b[0;34m\u001b[0m\u001b[0m\n\u001b[1;32m   2674\u001b[0m     \u001b[0;32mdef\u001b[0m \u001b[0m__setattr__\u001b[0m\u001b[0;34m(\u001b[0m\u001b[0mself\u001b[0m\u001b[0;34m,\u001b[0m \u001b[0mname\u001b[0m\u001b[0;34m,\u001b[0m \u001b[0mvalue\u001b[0m\u001b[0;34m)\u001b[0m\u001b[0;34m:\u001b[0m\u001b[0;34m\u001b[0m\u001b[0m\n",
      "\u001b[0;31mAttributeError\u001b[0m: 'DataFrame' object has no attribute 'key1'"
     ]
    }
   ],
   "source": [
    "# Determine the set of 'new products'\n",
    "NoDupsData['key1'] = 1\n",
    "dataInnerMerge['key2'] = 1\n",
    "newProducts = pd.merge(NoDupsData, dataInnerMerge, \\\n",
    "                      on=['Brand','Current Price','Original Price','Product Name', 'Teaser'], \\\n",
    "                      how = 'left')\n",
    "\n",
    "# Create the associated dataframe\n",
    "newProducts = newProducts[newProducts.key2 != newProducts.key1]\n",
    "\n",
    "# Add the starting date in the dataframe in which the product is first shown"
   ]
  },
  {
   "cell_type": "markdown",
   "metadata": {},
   "source": [
    "###### 4. Create visualizations\n",
    "- Histogram of Prices\n",
    "- Histogram of Days on Market\n",
    "- Scatter Diagram of Prices vs Days on Market\n",
    "- Pie Chart of New, Like New, Used"
   ]
  },
  {
   "cell_type": "markdown",
   "metadata": {},
   "source": [
    "###### 5. Trends from your data  \n",
    "- Search for specific brands and offer counts for each\n",
    "- Search for product types and offer counts for each\n",
    "- For each of the above (and other) give counts for day over day or week over week"
   ]
  },
  {
   "cell_type": "code",
   "execution_count": 20,
   "metadata": {
    "collapsed": false
   },
   "outputs": [
    {
     "name": "stderr",
     "output_type": "stream",
     "text": [
      "/Users/apple/anaconda/lib/python3.5/site-packages/ipykernel/__main__.py:6: UserWarning: Boolean Series key will be reindexed to match DataFrame index.\n"
     ]
    },
    {
     "ename": "IndexingError",
     "evalue": "Unalignable boolean Series key provided",
     "output_type": "error",
     "traceback": [
      "\u001b[0;31m---------------------------------------------------------------------------\u001b[0m",
      "\u001b[0;31mIndexingError\u001b[0m                             Traceback (most recent call last)",
      "\u001b[0;32m<ipython-input-20-ed1fe16c369b>\u001b[0m in \u001b[0;36m<module>\u001b[0;34m()\u001b[0m\n\u001b[1;32m      4\u001b[0m \u001b[0munfilteredAudioData\u001b[0m \u001b[0;34m=\u001b[0m \u001b[0mNoDupsData\u001b[0m\u001b[0;34m[\u001b[0m\u001b[0mNoDupsData\u001b[0m\u001b[0;34m[\u001b[0m\u001b[0;34m'Brand'\u001b[0m\u001b[0;34m]\u001b[0m\u001b[0;34m.\u001b[0m\u001b[0mstr\u001b[0m\u001b[0;34m.\u001b[0m\u001b[0mcontains\u001b[0m\u001b[0;34m(\u001b[0m\u001b[0;34m'Unfiltered Audio'\u001b[0m\u001b[0;34m)\u001b[0m\u001b[0;34m]\u001b[0m\u001b[0;34m\u001b[0m\u001b[0m\n\u001b[1;32m      5\u001b[0m \u001b[0mpluginAllianceData\u001b[0m \u001b[0;34m=\u001b[0m \u001b[0mNoDupsData\u001b[0m\u001b[0;34m[\u001b[0m\u001b[0mNoDupsData\u001b[0m\u001b[0;34m[\u001b[0m\u001b[0;34m'Brand'\u001b[0m\u001b[0;34m]\u001b[0m\u001b[0;34m.\u001b[0m\u001b[0mstr\u001b[0m\u001b[0;34m.\u001b[0m\u001b[0mcontains\u001b[0m\u001b[0;34m(\u001b[0m\u001b[0;34m'Plugin Alliance'\u001b[0m\u001b[0;34m)\u001b[0m\u001b[0;34m]\u001b[0m\u001b[0;34m\u001b[0m\u001b[0m\n\u001b[0;32m----> 6\u001b[0;31m \u001b[0mbrainWorxData2\u001b[0m \u001b[0;34m=\u001b[0m \u001b[0mNoDupsData2\u001b[0m\u001b[0;34m[\u001b[0m\u001b[0mNoDupsData\u001b[0m\u001b[0;34m[\u001b[0m\u001b[0;34m'Brand'\u001b[0m\u001b[0;34m]\u001b[0m\u001b[0;34m.\u001b[0m\u001b[0mstr\u001b[0m\u001b[0;34m.\u001b[0m\u001b[0mcontains\u001b[0m\u001b[0;34m(\u001b[0m\u001b[0;34m'Brainworx '\u001b[0m\u001b[0;34m)\u001b[0m\u001b[0;34m]\u001b[0m\u001b[0;34m\u001b[0m\u001b[0m\n\u001b[0m\u001b[1;32m      7\u001b[0m \u001b[0munfilteredAudioData2\u001b[0m \u001b[0;34m=\u001b[0m \u001b[0mNoDupsData2\u001b[0m\u001b[0;34m[\u001b[0m\u001b[0mNoDupsData\u001b[0m\u001b[0;34m[\u001b[0m\u001b[0;34m'Brand'\u001b[0m\u001b[0;34m]\u001b[0m\u001b[0;34m.\u001b[0m\u001b[0mstr\u001b[0m\u001b[0;34m.\u001b[0m\u001b[0mcontains\u001b[0m\u001b[0;34m(\u001b[0m\u001b[0;34m'Unfiltered Audio'\u001b[0m\u001b[0;34m)\u001b[0m\u001b[0;34m]\u001b[0m\u001b[0;34m\u001b[0m\u001b[0m\n\u001b[1;32m      8\u001b[0m \u001b[0mpluginAllianceData2\u001b[0m \u001b[0;34m=\u001b[0m \u001b[0mNoDupsData2\u001b[0m\u001b[0;34m[\u001b[0m\u001b[0mNoDupsData\u001b[0m\u001b[0;34m[\u001b[0m\u001b[0;34m'Brand'\u001b[0m\u001b[0;34m]\u001b[0m\u001b[0;34m.\u001b[0m\u001b[0mstr\u001b[0m\u001b[0;34m.\u001b[0m\u001b[0mcontains\u001b[0m\u001b[0;34m(\u001b[0m\u001b[0;34m'Plugin Alliance'\u001b[0m\u001b[0;34m)\u001b[0m\u001b[0;34m]\u001b[0m\u001b[0;34m\u001b[0m\u001b[0m\n",
      "\u001b[0;32m/Users/apple/anaconda/lib/python3.5/site-packages/pandas/core/frame.py\u001b[0m in \u001b[0;36m__getitem__\u001b[0;34m(self, key)\u001b[0m\n\u001b[1;32m   1989\u001b[0m         \u001b[0;32mif\u001b[0m \u001b[0misinstance\u001b[0m\u001b[0;34m(\u001b[0m\u001b[0mkey\u001b[0m\u001b[0;34m,\u001b[0m \u001b[0;34m(\u001b[0m\u001b[0mSeries\u001b[0m\u001b[0;34m,\u001b[0m \u001b[0mnp\u001b[0m\u001b[0;34m.\u001b[0m\u001b[0mndarray\u001b[0m\u001b[0;34m,\u001b[0m \u001b[0mIndex\u001b[0m\u001b[0;34m,\u001b[0m \u001b[0mlist\u001b[0m\u001b[0;34m)\u001b[0m\u001b[0;34m)\u001b[0m\u001b[0;34m:\u001b[0m\u001b[0;34m\u001b[0m\u001b[0m\n\u001b[1;32m   1990\u001b[0m             \u001b[0;31m# either boolean or fancy integer index\u001b[0m\u001b[0;34m\u001b[0m\u001b[0;34m\u001b[0m\u001b[0m\n\u001b[0;32m-> 1991\u001b[0;31m             \u001b[0;32mreturn\u001b[0m \u001b[0mself\u001b[0m\u001b[0;34m.\u001b[0m\u001b[0m_getitem_array\u001b[0m\u001b[0;34m(\u001b[0m\u001b[0mkey\u001b[0m\u001b[0;34m)\u001b[0m\u001b[0;34m\u001b[0m\u001b[0m\n\u001b[0m\u001b[1;32m   1992\u001b[0m         \u001b[0;32melif\u001b[0m \u001b[0misinstance\u001b[0m\u001b[0;34m(\u001b[0m\u001b[0mkey\u001b[0m\u001b[0;34m,\u001b[0m \u001b[0mDataFrame\u001b[0m\u001b[0;34m)\u001b[0m\u001b[0;34m:\u001b[0m\u001b[0;34m\u001b[0m\u001b[0m\n\u001b[1;32m   1993\u001b[0m             \u001b[0;32mreturn\u001b[0m \u001b[0mself\u001b[0m\u001b[0;34m.\u001b[0m\u001b[0m_getitem_frame\u001b[0m\u001b[0;34m(\u001b[0m\u001b[0mkey\u001b[0m\u001b[0;34m)\u001b[0m\u001b[0;34m\u001b[0m\u001b[0m\n",
      "\u001b[0;32m/Users/apple/anaconda/lib/python3.5/site-packages/pandas/core/frame.py\u001b[0m in \u001b[0;36m_getitem_array\u001b[0;34m(self, key)\u001b[0m\n\u001b[1;32m   2029\u001b[0m             \u001b[0;31m# check_bool_indexer will throw exception if Series key cannot\u001b[0m\u001b[0;34m\u001b[0m\u001b[0;34m\u001b[0m\u001b[0m\n\u001b[1;32m   2030\u001b[0m             \u001b[0;31m# be reindexed to match DataFrame rows\u001b[0m\u001b[0;34m\u001b[0m\u001b[0;34m\u001b[0m\u001b[0m\n\u001b[0;32m-> 2031\u001b[0;31m             \u001b[0mkey\u001b[0m \u001b[0;34m=\u001b[0m \u001b[0mcheck_bool_indexer\u001b[0m\u001b[0;34m(\u001b[0m\u001b[0mself\u001b[0m\u001b[0;34m.\u001b[0m\u001b[0mindex\u001b[0m\u001b[0;34m,\u001b[0m \u001b[0mkey\u001b[0m\u001b[0;34m)\u001b[0m\u001b[0;34m\u001b[0m\u001b[0m\n\u001b[0m\u001b[1;32m   2032\u001b[0m             \u001b[0mindexer\u001b[0m \u001b[0;34m=\u001b[0m \u001b[0mkey\u001b[0m\u001b[0;34m.\u001b[0m\u001b[0mnonzero\u001b[0m\u001b[0;34m(\u001b[0m\u001b[0;34m)\u001b[0m\u001b[0;34m[\u001b[0m\u001b[0;36m0\u001b[0m\u001b[0;34m]\u001b[0m\u001b[0;34m\u001b[0m\u001b[0m\n\u001b[1;32m   2033\u001b[0m             \u001b[0;32mreturn\u001b[0m \u001b[0mself\u001b[0m\u001b[0;34m.\u001b[0m\u001b[0mtake\u001b[0m\u001b[0;34m(\u001b[0m\u001b[0mindexer\u001b[0m\u001b[0;34m,\u001b[0m \u001b[0maxis\u001b[0m\u001b[0;34m=\u001b[0m\u001b[0;36m0\u001b[0m\u001b[0;34m,\u001b[0m \u001b[0mconvert\u001b[0m\u001b[0;34m=\u001b[0m\u001b[0;32mFalse\u001b[0m\u001b[0;34m)\u001b[0m\u001b[0;34m\u001b[0m\u001b[0m\n",
      "\u001b[0;32m/Users/apple/anaconda/lib/python3.5/site-packages/pandas/core/indexing.py\u001b[0m in \u001b[0;36mcheck_bool_indexer\u001b[0;34m(ax, key)\u001b[0m\n\u001b[1;32m   1799\u001b[0m         \u001b[0mmask\u001b[0m \u001b[0;34m=\u001b[0m \u001b[0mcom\u001b[0m\u001b[0;34m.\u001b[0m\u001b[0misnull\u001b[0m\u001b[0;34m(\u001b[0m\u001b[0mresult\u001b[0m\u001b[0;34m.\u001b[0m\u001b[0m_values\u001b[0m\u001b[0;34m)\u001b[0m\u001b[0;34m\u001b[0m\u001b[0m\n\u001b[1;32m   1800\u001b[0m         \u001b[0;32mif\u001b[0m \u001b[0mmask\u001b[0m\u001b[0;34m.\u001b[0m\u001b[0many\u001b[0m\u001b[0;34m(\u001b[0m\u001b[0;34m)\u001b[0m\u001b[0;34m:\u001b[0m\u001b[0;34m\u001b[0m\u001b[0m\n\u001b[0;32m-> 1801\u001b[0;31m             \u001b[0;32mraise\u001b[0m \u001b[0mIndexingError\u001b[0m\u001b[0;34m(\u001b[0m\u001b[0;34m'Unalignable boolean Series key provided'\u001b[0m\u001b[0;34m)\u001b[0m\u001b[0;34m\u001b[0m\u001b[0m\n\u001b[0m\u001b[1;32m   1802\u001b[0m \u001b[0;34m\u001b[0m\u001b[0m\n\u001b[1;32m   1803\u001b[0m         \u001b[0mresult\u001b[0m \u001b[0;34m=\u001b[0m \u001b[0mresult\u001b[0m\u001b[0;34m.\u001b[0m\u001b[0mastype\u001b[0m\u001b[0;34m(\u001b[0m\u001b[0mbool\u001b[0m\u001b[0;34m)\u001b[0m\u001b[0;34m.\u001b[0m\u001b[0m_values\u001b[0m\u001b[0;34m\u001b[0m\u001b[0m\n",
      "\u001b[0;31mIndexingError\u001b[0m: Unalignable boolean Series key provided"
     ]
    }
   ],
   "source": [
    "# List the products representing specific brands of your choosing\n",
    "# for each date provided\n",
    "brainWorxData = NoDupsData[NoDupsData['Brand'].str.contains('Brainworx ')]\n",
    "unfilteredAudioData = NoDupsData[NoDupsData['Brand'].str.contains('Unfiltered Audio')]\n",
    "pluginAllianceData = NoDupsData[NoDupsData['Brand'].str.contains('Plugin Alliance')]\n",
    "brainWorxData2 = NoDupsData2[NoDupsData['Brand'].str.contains('Brainworx ')]\n",
    "unfilteredAudioData2 = NoDupsData2[NoDupsData['Brand'].str.contains('Unfiltered Audio')]\n",
    "pluginAllianceData2 = NoDupsData2[NoDupsData['Brand'].str.contains('Plugin Alliance')]\n",
    "\n",
    "# Create a bar chart of products by brand (for the brands chosen)\n",
    "brainWorxCount = len(brainWorxData)\n",
    "unfilteredAudioCount = len(unfilteredAudioData)\n",
    "pluginAllianceCount = len(pluginAllianceData)\n",
    "brainWorxCount2 = len(brainWorxData2)\n",
    "unfilteredAudioCount2 = len(unfilteredAudioData2)\n",
    "pluginAllianceCount2 = len(pluginAllianceData2)\n",
    "\n",
    "objects = ('BrainWorx','BrainWorx2','', 'UnfilteredAudio', 'UnfilteredAudio2','', \\\n",
    "           'PluginAlliance', 'PluginAlliance2')\n",
    "colors = ('green','red','blue','green','red','blue','green','red')\n",
    "y_pos = np.arange(len(objects))\n",
    "performance = [brainWorxCount,brainWorxCount2,0,unfilteredAudioCount,unfilteredAudioCount2,\\\n",
    "               0,pluginAllianceCount,pluginAllianceCount2]\n",
    "fig = plt.figure(figsize=(15,7))\n",
    "plt.bar(y_pos, performance, align='center',alpha=0.5, color=colors)\n",
    "plt.xticks(y_pos, objects)\n",
    "plt.ylabel('Counts')\n",
    "plt.title('Brands')\n",
    " \n",
    "plt.show()\n"
   ]
  },
  {
   "cell_type": "code",
   "execution_count": null,
   "metadata": {
    "collapsed": true
   },
   "outputs": [],
   "source": []
  }
 ],
 "metadata": {
  "anaconda-cloud": {},
  "kernelspec": {
   "display_name": "Python 3",
   "language": "python",
   "name": "python3"
  },
  "language_info": {
   "codemirror_mode": {
    "name": "ipython",
    "version": 3
   },
   "file_extension": ".py",
   "mimetype": "text/x-python",
   "name": "python",
   "nbconvert_exporter": "python",
   "pygments_lexer": "ipython3",
   "version": "3.5.2"
  }
 },
 "nbformat": 4,
 "nbformat_minor": 0
}
