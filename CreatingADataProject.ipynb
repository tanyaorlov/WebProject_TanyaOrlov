{
 "cells": [
  {
   "cell_type": "markdown",
   "metadata": {},
   "source": [
    "## Creating a Web Data Project with Jupyter Notebooks\n",
    "******\n",
    "###### 1. Read in json file(s) resulting from your work with requests/selenium and beautifulsoup"
   ]
  },
  {
   "cell_type": "code",
   "execution_count": 8,
   "metadata": {
    "collapsed": false
   },
   "outputs": [
    {
     "data": {
      "text/plain": [
       "18"
      ]
     },
     "execution_count": 8,
     "metadata": {},
     "output_type": "execute_result"
    }
   ],
   "source": [
    "# Import necessary packages\n",
    "import matplotlib\n",
    "import numpy as np\n",
    "import matplotlib.pyplot as plt\n",
    "%matplotlib inline\n",
    "import pandas as pd\n",
    "\n",
    "# Read in json files and create dataframes\n",
    "filename5 = '2017-03-20.PluginAllianceSales.json'\n",
    "data5 = pd.read_json(filename5)\n",
    "filename6 = '2017-03-21.PluginAllianceSales.json'\n",
    "data6 = pd.read_json(filename6)\n",
    "\n",
    "#filename = '2017-01-24.PluginSales.json'\n",
    "#data = pd.read_json(filename)\n",
    "#filename2 = '2017-01-31.PluginSales.json'\n",
    "#data2 = pd.read_json(filename2)\n",
    "#filename3 = '2017-02-02.PluginSales.json'\n",
    "#data3 = pd.read_json(filename3)\n",
    "#filename4 = '2017-02-21.PluginAllianceSales.json'\n",
    "#date4 = pd.read_json(filename4)\n",
    "\n",
    "len(date5)"
   ]
  },
  {
   "cell_type": "markdown",
   "metadata": {},
   "source": [
    "###### 2. Clean the data column by column\n",
    "- Ensure that addresses (or other text data) are consistent \n",
    "- Eliminate string characters from numeric values \n",
    "- Exclude redundant data as appropriate"
   ]
  },
  {
   "cell_type": "code",
   "execution_count": 9,
   "metadata": {
    "collapsed": false
   },
   "outputs": [
    {
     "ename": "NameError",
     "evalue": "name 'data' is not defined",
     "output_type": "error",
     "traceback": [
      "\u001b[0;31m---------------------------------------------------------------------------\u001b[0m",
      "\u001b[0;31mNameError\u001b[0m                                 Traceback (most recent call last)",
      "\u001b[0;32m<ipython-input-9-6aa74b29d132>\u001b[0m in \u001b[0;36m<module>\u001b[0;34m()\u001b[0m\n\u001b[1;32m      1\u001b[0m \u001b[0;31m# Clean up location data to ensure consistency\u001b[0m\u001b[0;34m\u001b[0m\u001b[0;34m\u001b[0m\u001b[0m\n\u001b[0;32m----> 2\u001b[0;31m data['Location'].replace({'2 Monitors and sub': 'Not Included', \n\u001b[0m\u001b[1;32m      3\u001b[0m                           \u001b[0;34m'DFW'\u001b[0m \u001b[0;34m:\u001b[0m \u001b[0;34m'Dallas - Fortworth, TX'\u001b[0m\u001b[0;34m,\u001b[0m\u001b[0;34m\u001b[0m\u001b[0m\n\u001b[1;32m      4\u001b[0m                           \u001b[0;34m'84047 Midvale Utah'\u001b[0m \u001b[0;34m:\u001b[0m \u001b[0;34m'Midvale, Utah 84047'\u001b[0m\u001b[0;34m,\u001b[0m\u001b[0;34m\u001b[0m\u001b[0m\n\u001b[1;32m      5\u001b[0m                           \u001b[0;34m'08085 swedesboro NJ'\u001b[0m \u001b[0;34m:\u001b[0m \u001b[0;34m'Swedesboro, NF 08085'\u001b[0m\u001b[0;34m\u001b[0m\u001b[0m\n",
      "\u001b[0;31mNameError\u001b[0m: name 'data' is not defined"
     ]
    }
   ],
   "source": [
    "# Clean up location data to ensure consistency\n",
    "data['Location'].replace({'2 Monitors and sub': 'Not Included', \n",
    "                          'DFW' : 'Dallas - Fortworth, TX',\n",
    "                          '84047 Midvale Utah' : 'Midvale, Utah 84047',\n",
    "                          '08085 swedesboro NJ' : 'Swedesboro, NF 08085'\n",
    "                         }, inplace=True)\n",
    "\n",
    "data2['Location'].replace({'2 Monitors and sub': 'Not Included', \n",
    "                          'DFW' : 'Dallas - Fortworth, TX',\n",
    "                          '84047 Midvale Utah' : 'Midvale, Utah 84047',\n",
    "                          '08085 swedesboro NJ' : 'Swedesboro, NF 08085'\n",
    "                         }, inplace=True)"
   ]
  },
  {
   "cell_type": "code",
   "execution_count": 3,
   "metadata": {
    "collapsed": false
   },
   "outputs": [],
   "source": [
    "#set(data.Location)\n",
    "#set(data2.Location)"
   ]
  },
  {
   "cell_type": "code",
   "execution_count": 4,
   "metadata": {
    "collapsed": false
   },
   "outputs": [
    {
     "ename": "NameError",
     "evalue": "name 'data' is not defined",
     "output_type": "error",
     "traceback": [
      "\u001b[0;31m---------------------------------------------------------------------------\u001b[0m",
      "\u001b[0;31mNameError\u001b[0m                                 Traceback (most recent call last)",
      "\u001b[0;32m<ipython-input-4-5bbff640ac79>\u001b[0m in \u001b[0;36m<module>\u001b[0;34m()\u001b[0m\n\u001b[1;32m      1\u001b[0m \u001b[0;31m# Eliminate string characters from numeric data\u001b[0m\u001b[0;34m\u001b[0m\u001b[0;34m\u001b[0m\u001b[0m\n\u001b[0;32m----> 2\u001b[0;31m \u001b[0mdata\u001b[0m\u001b[0;34m[\u001b[0m\u001b[0;34m'Price'\u001b[0m\u001b[0;34m]\u001b[0m \u001b[0;34m=\u001b[0m \u001b[0mdata\u001b[0m\u001b[0;34m[\u001b[0m\u001b[0;34m'Price'\u001b[0m\u001b[0;34m]\u001b[0m\u001b[0;34m.\u001b[0m\u001b[0mstr\u001b[0m\u001b[0;34m.\u001b[0m\u001b[0mreplace\u001b[0m\u001b[0;34m(\u001b[0m\u001b[0;34m'NEGOTIATE'\u001b[0m\u001b[0;34m,\u001b[0m\u001b[0;34m'.555'\u001b[0m\u001b[0;34m)\u001b[0m\u001b[0;34m\u001b[0m\u001b[0m\n\u001b[0m\u001b[1;32m      3\u001b[0m \u001b[0mdata\u001b[0m\u001b[0;34m[\u001b[0m\u001b[0;34m'Price'\u001b[0m\u001b[0;34m]\u001b[0m \u001b[0;34m=\u001b[0m \u001b[0mdata\u001b[0m\u001b[0;34m[\u001b[0m\u001b[0;34m'Price'\u001b[0m\u001b[0;34m]\u001b[0m\u001b[0;34m.\u001b[0m\u001b[0mstr\u001b[0m\u001b[0;34m.\u001b[0m\u001b[0mreplace\u001b[0m\u001b[0;34m(\u001b[0m\u001b[0;34m'Trade'\u001b[0m\u001b[0;34m,\u001b[0m\u001b[0;34m'.666'\u001b[0m\u001b[0;34m)\u001b[0m\u001b[0;34m\u001b[0m\u001b[0m\n\u001b[1;32m      4\u001b[0m \u001b[0mdata\u001b[0m\u001b[0;34m[\u001b[0m\u001b[0;34m'Price'\u001b[0m\u001b[0;34m]\u001b[0m \u001b[0;34m=\u001b[0m \u001b[0mdata\u001b[0m\u001b[0;34m[\u001b[0m\u001b[0;34m'Price'\u001b[0m\u001b[0;34m]\u001b[0m\u001b[0;34m.\u001b[0m\u001b[0mstr\u001b[0m\u001b[0;34m.\u001b[0m\u001b[0mreplace\u001b[0m\u001b[0;34m(\u001b[0m\u001b[0;34m'SOLD'\u001b[0m\u001b[0;34m,\u001b[0m\u001b[0;34m'.777'\u001b[0m\u001b[0;34m)\u001b[0m\u001b[0;34m\u001b[0m\u001b[0m\n\u001b[1;32m      5\u001b[0m \u001b[0mdata\u001b[0m\u001b[0;34m[\u001b[0m\u001b[0;34m'Price'\u001b[0m\u001b[0;34m]\u001b[0m \u001b[0;34m=\u001b[0m \u001b[0mdata\u001b[0m\u001b[0;34m[\u001b[0m\u001b[0;34m'Price'\u001b[0m\u001b[0;34m]\u001b[0m\u001b[0;34m.\u001b[0m\u001b[0mstr\u001b[0m\u001b[0;34m.\u001b[0m\u001b[0mreplace\u001b[0m\u001b[0;34m(\u001b[0m\u001b[0;34m'You'\u001b[0m\u001b[0;34m,\u001b[0m\u001b[0;34m'.111'\u001b[0m\u001b[0;34m)\u001b[0m\u001b[0;34m\u001b[0m\u001b[0m\n",
      "\u001b[0;31mNameError\u001b[0m: name 'data' is not defined"
     ]
    }
   ],
   "source": [
    "# Eliminate string characters from numeric data\n",
    "data['Price'] = data['Price'].str.replace('NEGOTIATE','.555')\n",
    "data['Price'] = data['Price'].str.replace('Trade','.666')\n",
    "data['Price'] = data['Price'].str.replace('SOLD','.777')\n",
    "data['Price'] = data['Price'].str.replace('You','.111')\n",
    "data['Price'] = data['Price'].str.replace('$','')\n",
    "data['Price'] = data['Price'].str.replace('\\xa0','')\n",
    "data['Price'] = data['Price'].str.replace('.U.S','')\n",
    "data['Price'] = data['Price'].str.replace(',','')\n",
    "data['Price'] = data['Price'].str.split().str[0]\n",
    "data['Price'] = data['Price'].str.split('+').str[0]\n",
    "data['Price'] = data['Price'].astype(float)\n",
    "\n",
    "data2['Price'] = data2['Price'].str.replace('NEGOTIATE','.555')\n",
    "data2['Price'] = data2['Price'].str.replace('Trade','.666')\n",
    "data2['Price'] = data2['Price'].str.replace('SOLD','.777')\n",
    "data2['Price'] = data2['Price'].str.replace('You','.111')\n",
    "data2['Price'] = data2['Price'].str.replace('$','')\n",
    "data2['Price'] = data2['Price'].str.replace('\\xa0','')\n",
    "data2['Price'] = data2['Price'].str.replace('.U.S','')\n",
    "data2['Price'] = data2['Price'].str.replace(',','')\n",
    "data2['Price'] = data2['Price'].str.split().str[0]\n",
    "data2['Price'] = data2['Price'].str.split('+').str[0]\n",
    "data2['Price'] = data2['Price'].astype(float)"
   ]
  },
  {
   "cell_type": "code",
   "execution_count": null,
   "metadata": {
    "collapsed": false
   },
   "outputs": [],
   "source": [
    "#set(data.Price)\n",
    "#set(data2.Price)"
   ]
  },
  {
   "cell_type": "code",
   "execution_count": 16,
   "metadata": {
    "collapsed": false
   },
   "outputs": [],
   "source": [
    "# Exclude redundant rows\n",
    "NoDupsData = date5.drop_duplicates()\n",
    "NoDupsData2 = date6.drop_duplicates()"
   ]
  },
  {
   "cell_type": "markdown",
   "metadata": {},
   "source": [
    "###### 3. Merge dataframes from separate json files as appropriate\n",
    "- Find the intersection of two (or more) sets\n",
    "- Compare the intersection with the newer set to find 'New Products'  \n",
    "    - When found, add the starting date\n",
    "- Compare the intersection with the older set to find 'Closed Products'  \n",
    "    - When found, add the closing date\n",
    "    - Compare closing date with starting date to find days on market      "
   ]
  },
  {
   "cell_type": "code",
   "execution_count": null,
   "metadata": {
    "collapsed": true
   },
   "outputs": [],
   "source": [
    "# Create the inner merge of the two dataframes\n",
    "dataInnerMerge = pd.merge(NoDupsData, NoDupsData2, \\\n",
    "                          on=['ID','Location','Title','Price'],\\\n",
    "                          how='inner')"
   ]
  },
  {
   "cell_type": "code",
   "execution_count": null,
   "metadata": {
    "collapsed": false
   },
   "outputs": [],
   "source": [
    "# Determine the set of 'new products'\n",
    "NoDupsData2['key1'] = 1\n",
    "dataInnerMerge['key2'] = 1\n",
    "newProducts = pd.merge(NoDupsData2, dataInnerMerge, \\\n",
    "                      on=['ID', 'Title','Location','Price'], \\\n",
    "                      how = 'left')\n",
    "\n",
    "# Create the associated dataframe\n",
    "newProducts = newProducts[newProducts.key2 != newProducts.key1]\n",
    "\n",
    "# Add the starting date in the dataframe in which the product is first shown"
   ]
  },
  {
   "cell_type": "code",
   "execution_count": null,
   "metadata": {
    "collapsed": false
   },
   "outputs": [],
   "source": [
    "# Determine the set of 'closed products'\n",
    "NoDupsData['key1'] = 1\n",
    "closedProducts = pd.merge(NoDupsData, dataInnerMerge, \\\n",
    "                      on=['ID', 'Title','Location','Price'], \\\n",
    "                      how = 'left')\n",
    "\n",
    "# Create the associated dataframe\n",
    "closedProducts = closedProducts[closedProducts.key2 != closedProducts.key1]\n",
    "\n",
    "# Add the closing date in the dataframe in which the product is last shown\n",
    "\n",
    "\n",
    "# Find days on market by comparing the starting date with the closing date"
   ]
  },
  {
   "cell_type": "markdown",
   "metadata": {},
   "source": [
    "###### 4. Create visualizations\n",
    "- Histogram of Prices\n",
    "- Histogram of Days on Market\n",
    "- Scatter Diagram of Prices vs Days on Market\n",
    "- Pie Chart of New, Like New, Used"
   ]
  },
  {
   "cell_type": "code",
   "execution_count": null,
   "metadata": {
    "collapsed": false
   },
   "outputs": [],
   "source": [
    "# Create a histogram of Prices\n",
    "goodPrices = newProducts.Price[newProducts['Price'] > 1.0]\n",
    "goodPrices = goodPrices[goodPrices < 1500.0]\n",
    "plt.hist(goodPrices)\n",
    "plt.title(\"Product Prices\")\n",
    "plt.xlabel(\"Price\")\n",
    "plt.ylabel(\"Frequency\")\n",
    "plt.show()\n",
    "\n",
    "#Temporary Data for Days on Market ... for Scatter Plot Example\n",
    "scatterData = {'Price': goodPrices,\\\n",
    "               'daysOnMarket' : \\\n",
    "               np.random.randint(1,30,size=len(goodPrices))}\n",
    "sD = pd.DataFrame(scatterData)\n",
    "\n",
    "# Create a histogram of Days on Market\n",
    "plt.hist(sD.daysOnMarket)\n",
    "plt.title(\"Days On Market\")\n",
    "plt.xlabel(\"Days\")\n",
    "plt.ylabel(\"Frequency\")\n",
    "plt.show()\n",
    "\n",
    "# Create a Scatter Diagram of Prices vs Days on Market\n",
    "fig = plt.figure()\n",
    "ax = fig.add_subplot(111)\n",
    "x = sD.Price\n",
    "y = sD.daysOnMarket\n",
    "ax.scatter(x,y,color='blue')\n",
    "ax.set_ylim([0,30])\n",
    "ax.set_xlim([0,1600])\n",
    "\n",
    "plt.title(\"Days On Market vs Price\")\n",
    "plt.xlabel(\"Price\")\n",
    "plt.ylabel(\"Days On Market\")\n",
    "plt.show()\n",
    "\n",
    "# Create a Pie Chart of New, Like New, and Used products\n",
    "colors = [\"#E13F29\", \"#D69A80\", \"#D63B59\"]\n",
    "# Create a pie chart\n",
    "plt.pie(\n",
    "    [newProducts.Condition[newProducts.Condition == 'like new'].count(),\\\n",
    "     newProducts.Condition[newProducts.Condition == 'new'].count(), \\\n",
    "     newProducts.Condition[newProducts.Condition == 'used'].count()],\n",
    "    labels= ['like_new','new','used'],\n",
    "    shadow=True,\n",
    "    # with colors\n",
    "    colors=colors,\n",
    "    # with one slide exploded out\n",
    "    explode=(0.1, 0, 0),\n",
    "    # with the start angle at 90%\n",
    "    startangle=90,\n",
    "    # with the percent listed as a fraction\n",
    "    autopct='%1.1f%%',\n",
    "    )\n",
    "\n",
    "# View the plot drop above\n",
    "plt.axis('equal')\n",
    "\n",
    "# View the plot\n",
    "plt.tight_layout()\n",
    "plt.show()\n",
    "\n"
   ]
  },
  {
   "cell_type": "markdown",
   "metadata": {},
   "source": [
    "###### 5. Trends from your data  \n",
    "- Search for specific brands and offer counts for each\n",
    "- Search for product types and offer counts for each\n",
    "- For each of the above (and other) give counts for day over day or week over week"
   ]
  },
  {
   "cell_type": "code",
   "execution_count": null,
   "metadata": {
    "collapsed": false
   },
   "outputs": [],
   "source": [
    "# List the products representing specific brands of your choosing\n",
    "# for each date provided\n",
    "fenderData = NoDupsData[NoDupsData['Title'].str.contains('fender ')]\n",
    "yamahaData = NoDupsData[NoDupsData['Title'].str.contains('yamaha ')]\n",
    "gibsonData = NoDupsData[NoDupsData['Title'].str.contains('gibson ')]\n",
    "fenderData2 = NoDupsData2[NoDupsData2['Title'].str.contains('fender ')]\n",
    "yamahaData2 = NoDupsData2[NoDupsData2['Title'].str.contains('yamaha ')]\n",
    "gibsonData2 = NoDupsData2[NoDupsData2['Title'].str.contains('gibson ')]\n",
    "\n",
    "# Create a bar chart of products by brand (for the brands chosen)\n",
    "fenderCount = len(fenderData)\n",
    "yamahaCount = len(yamahaData)\n",
    "gibsonCount = len(gibsonData)\n",
    "fenderCount2 = len(fenderData2)\n",
    "yamahaCount2 = len(yamahaData2)\n",
    "gibsonCount2 = len(gibsonData2)\n",
    "\n",
    "objects = ('Fender','Fender2','', 'Yamaha', 'Yamaha2','', \\\n",
    "           'Gibson', 'Gibson2')\n",
    "colors = ('green','red','blue','green','red','blue','green','red')\n",
    "y_pos = np.arange(len(objects))\n",
    "performance = [fenderCount,fenderCount2,0,yamahaCount,yamahaCount2,\\\n",
    "               0,gibsonCount,gibsonCount2]\n",
    "fig = plt.figure(figsize=(15,7))\n",
    "plt.bar(y_pos, performance, align='center',alpha=0.5, color=colors)\n",
    "plt.xticks(y_pos, objects)\n",
    "plt.ylabel('Counts')\n",
    "plt.title('Brands')\n",
    " \n",
    "plt.show()\n",
    "\n",
    "# List the products of a specific type\n",
    "guitarData = NoDupsData[NoDupsData['Title'].str.contains('guitar ')]\n",
    "audioData = NoDupsData[NoDupsData['Title'].str.contains('audio ')]\n",
    "drumData = NoDupsData[NoDupsData['Title'].str.contains('drum ')]\n",
    "guitarData2 = NoDupsData2[NoDupsData2['Title'].str.contains('guitar ')]\n",
    "audioData2 = NoDupsData2[NoDupsData2['Title'].str.contains('audio ')]\n",
    "drumData2 = NoDupsData2[NoDupsData2['Title'].str.contains('drum ')]\n",
    "\n",
    "\n",
    "# Create a bar chart of products by specific type\n",
    "# for each date provided\n",
    "guitarCount = len(guitarData)\n",
    "audioCount = len(audioData)\n",
    "drumCount = len(drumData)\n",
    "guitarCount2 = len(guitarData2)\n",
    "audioCount2 = len(audioData2)\n",
    "drumCount2 = len(drumData2)\n",
    "\n",
    "objects = ('Guitar','Guitar2','', 'Audio','Audio2','', 'Drum','Drum2')\n",
    "y_pos = np.arange(len(objects))\n",
    "performance = [guitarCount,guitarCount2,0,audioCount,audioCount2,\\\n",
    "               0,drumCount,drumCount2]\n",
    "colors = ('green','red','blue','green','red','blue','green','red') \n",
    "plt.bar(y_pos, performance, align='center', alpha=0.5, color=colors)\n",
    "plt.xticks(y_pos, objects)\n",
    "plt.ylabel('Counts')\n",
    "plt.title('Product Type')\n",
    " \n",
    "plt.show()"
   ]
  },
  {
   "cell_type": "code",
   "execution_count": null,
   "metadata": {
    "collapsed": false
   },
   "outputs": [],
   "source": [
    "fenderData[['Link','Title']]"
   ]
  },
  {
   "cell_type": "code",
   "execution_count": null,
   "metadata": {
    "collapsed": false
   },
   "outputs": [],
   "source": [
    "drumData[['Link','Title']]"
   ]
  }
 ],
 "metadata": {
  "anaconda-cloud": {},
  "kernelspec": {
   "display_name": "Python 3",
   "language": "python",
   "name": "python3"
  },
  "language_info": {
   "codemirror_mode": {
    "name": "ipython",
    "version": 3
   },
   "file_extension": ".py",
   "mimetype": "text/x-python",
   "name": "python",
   "nbconvert_exporter": "python",
   "pygments_lexer": "ipython3",
   "version": "3.5.2"
  }
 },
 "nbformat": 4,
 "nbformat_minor": 0
}
